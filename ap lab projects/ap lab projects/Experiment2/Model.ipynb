{
 "cells": [
  {
   "cell_type": "code",
   "execution_count": 21,
   "id": "424112c2-20b5-4a18-ae05-3a4d3c1a8c26",
   "metadata": {},
   "outputs": [],
   "source": [
    "import os\n",
    "import cv2\n",
    "import numpy as np\n",
    "import pandas as pd\n",
    "import seaborn as sns\n",
    "\n",
    "from sklearn.model_selection import train_test_split\n",
    "\n",
    "import tensorflow as tf\n",
    "from tensorflow.keras.models import Sequential\n",
    "from tensorflow.keras.layers import Conv2D,MaxPooling2D,Flatten,Dense\n",
    "from tensorflow.keras.preprocessing.image import ImageDataGenerator\n",
    "from tensorflow.keras.optimizers import Adam\n",
    "from tensorflow.keras.metrics import F1Score,Precision,Recall"
   ]
  },
  {
   "cell_type": "code",
   "execution_count": 7,
   "id": "0b277bed-e8d5-478d-8c71-de8e588c41e0",
   "metadata": {},
   "outputs": [],
   "source": [
    "data_dir='/Users/KIIT/Downloads/CatsDogs/train'\n",
    "\n",
    "folds=os.listdir(data_dir)\n",
    "file_paths=[]\n",
    "labels=[]\n",
    "\n",
    "for folds in folds:\n",
    "  foldpath=os.path.join(data_dir,folds)\n",
    "  files=os.listdir(foldpath)\n",
    "  for files in files:\n",
    "    file_path=os.path.join(foldpath,files)\n",
    "    file_paths.append(file_path)\n",
    "    labels.append(folds)\n",
    "\n",
    "df_train=pd.DataFrame(data={'file_path':file_paths,'label':labels})"
   ]
  },
  {
   "cell_type": "code",
   "execution_count": 9,
   "id": "a8732584-0b8b-4fc8-a0f5-39b95143c3cb",
   "metadata": {},
   "outputs": [
    {
     "data": {
      "text/html": [
       "<div>\n",
       "<style scoped>\n",
       "    .dataframe tbody tr th:only-of-type {\n",
       "        vertical-align: middle;\n",
       "    }\n",
       "\n",
       "    .dataframe tbody tr th {\n",
       "        vertical-align: top;\n",
       "    }\n",
       "\n",
       "    .dataframe thead th {\n",
       "        text-align: right;\n",
       "    }\n",
       "</style>\n",
       "<table border=\"1\" class=\"dataframe\">\n",
       "  <thead>\n",
       "    <tr style=\"text-align: right;\">\n",
       "      <th></th>\n",
       "      <th>file_path</th>\n",
       "      <th>label</th>\n",
       "    </tr>\n",
       "  </thead>\n",
       "  <tbody>\n",
       "    <tr>\n",
       "      <th>0</th>\n",
       "      <td>/Users/KIIT/Downloads/CatsDogs/train\\cats\\cat_...</td>\n",
       "      <td>cats</td>\n",
       "    </tr>\n",
       "    <tr>\n",
       "      <th>1</th>\n",
       "      <td>/Users/KIIT/Downloads/CatsDogs/train\\cats\\cat_...</td>\n",
       "      <td>cats</td>\n",
       "    </tr>\n",
       "    <tr>\n",
       "      <th>2</th>\n",
       "      <td>/Users/KIIT/Downloads/CatsDogs/train\\cats\\cat_...</td>\n",
       "      <td>cats</td>\n",
       "    </tr>\n",
       "    <tr>\n",
       "      <th>3</th>\n",
       "      <td>/Users/KIIT/Downloads/CatsDogs/train\\cats\\cat_...</td>\n",
       "      <td>cats</td>\n",
       "    </tr>\n",
       "    <tr>\n",
       "      <th>4</th>\n",
       "      <td>/Users/KIIT/Downloads/CatsDogs/train\\cats\\cat_...</td>\n",
       "      <td>cats</td>\n",
       "    </tr>\n",
       "  </tbody>\n",
       "</table>\n",
       "</div>"
      ],
      "text/plain": [
       "                                           file_path label\n",
       "0  /Users/KIIT/Downloads/CatsDogs/train\\cats\\cat_...  cats\n",
       "1  /Users/KIIT/Downloads/CatsDogs/train\\cats\\cat_...  cats\n",
       "2  /Users/KIIT/Downloads/CatsDogs/train\\cats\\cat_...  cats\n",
       "3  /Users/KIIT/Downloads/CatsDogs/train\\cats\\cat_...  cats\n",
       "4  /Users/KIIT/Downloads/CatsDogs/train\\cats\\cat_...  cats"
      ]
     },
     "execution_count": 9,
     "metadata": {},
     "output_type": "execute_result"
    }
   ],
   "source": [
    "df_train.head()"
   ]
  },
  {
   "cell_type": "code",
   "execution_count": 11,
   "id": "88fa613b-c1be-456f-a69e-746f9df333c0",
   "metadata": {},
   "outputs": [],
   "source": [
    "data_dir='/Users/KIIT/Downloads/CatsDogs/test'\n",
    "\n",
    "folds=os.listdir(data_dir)\n",
    "file_paths=[]\n",
    "labels=[]\n",
    "\n",
    "for folds in folds:\n",
    "  foldpath=os.path.join(data_dir,folds)\n",
    "  files=os.listdir(foldpath)\n",
    "  for files in files:\n",
    "    file_path=os.path.join(foldpath,files)\n",
    "    file_paths.append(file_path)\n",
    "    labels.append(folds)\n",
    "\n",
    "df_test=pd.DataFrame(data={'file_path':file_paths,'label':labels})"
   ]
  },
  {
   "cell_type": "code",
   "execution_count": 15,
   "id": "9ca9ea24-bd39-4b3b-855f-8bc7330b81b0",
   "metadata": {},
   "outputs": [
    {
     "data": {
      "text/html": [
       "<div>\n",
       "<style scoped>\n",
       "    .dataframe tbody tr th:only-of-type {\n",
       "        vertical-align: middle;\n",
       "    }\n",
       "\n",
       "    .dataframe tbody tr th {\n",
       "        vertical-align: top;\n",
       "    }\n",
       "\n",
       "    .dataframe thead th {\n",
       "        text-align: right;\n",
       "    }\n",
       "</style>\n",
       "<table border=\"1\" class=\"dataframe\">\n",
       "  <thead>\n",
       "    <tr style=\"text-align: right;\">\n",
       "      <th></th>\n",
       "      <th>file_path</th>\n",
       "      <th>label</th>\n",
       "    </tr>\n",
       "  </thead>\n",
       "  <tbody>\n",
       "    <tr>\n",
       "      <th>137</th>\n",
       "      <td>/Users/KIIT/Downloads/CatsDogs/test\\dogs\\dog_6...</td>\n",
       "      <td>dogs</td>\n",
       "    </tr>\n",
       "    <tr>\n",
       "      <th>138</th>\n",
       "      <td>/Users/KIIT/Downloads/CatsDogs/test\\dogs\\dog_7...</td>\n",
       "      <td>dogs</td>\n",
       "    </tr>\n",
       "    <tr>\n",
       "      <th>139</th>\n",
       "      <td>/Users/KIIT/Downloads/CatsDogs/test\\dogs\\dog_8...</td>\n",
       "      <td>dogs</td>\n",
       "    </tr>\n",
       "    <tr>\n",
       "      <th>140</th>\n",
       "      <td>/Users/KIIT/Downloads/CatsDogs/test\\__MACOSX\\cats</td>\n",
       "      <td>__MACOSX</td>\n",
       "    </tr>\n",
       "    <tr>\n",
       "      <th>141</th>\n",
       "      <td>/Users/KIIT/Downloads/CatsDogs/test\\__MACOSX\\dogs</td>\n",
       "      <td>__MACOSX</td>\n",
       "    </tr>\n",
       "  </tbody>\n",
       "</table>\n",
       "</div>"
      ],
      "text/plain": [
       "                                             file_path     label\n",
       "137  /Users/KIIT/Downloads/CatsDogs/test\\dogs\\dog_6...      dogs\n",
       "138  /Users/KIIT/Downloads/CatsDogs/test\\dogs\\dog_7...      dogs\n",
       "139  /Users/KIIT/Downloads/CatsDogs/test\\dogs\\dog_8...      dogs\n",
       "140  /Users/KIIT/Downloads/CatsDogs/test\\__MACOSX\\cats  __MACOSX\n",
       "141  /Users/KIIT/Downloads/CatsDogs/test\\__MACOSX\\dogs  __MACOSX"
      ]
     },
     "execution_count": 15,
     "metadata": {},
     "output_type": "execute_result"
    }
   ],
   "source": [
    "df_test.tail()"
   ]
  },
  {
   "cell_type": "code",
   "execution_count": 17,
   "id": "2185e07c-0416-433e-a7cb-51fe0819a669",
   "metadata": {},
   "outputs": [],
   "source": [
    "# Image preprocessing function\n",
    "def preprocess_image(image_path, size=(64, 64)):\n",
    "    image = cv2.imread(image_path, cv2.IMREAD_COLOR)  # Read image\n",
    "    if image is None:\n",
    "        return np.zeros(size[0] * size[1] * 3)  # Handle missing images\n",
    "    image = cv2.resize(image, size)  # Resize to 64x64\n",
    "    return image.flatten()  # Flatten to 1D\n"
   ]
  },
  {
   "cell_type": "code",
   "execution_count": 23,
   "id": "833714ed-2f6b-4b19-b3a3-762c558465d7",
   "metadata": {},
   "outputs": [],
   "source": [
    "# Apply preprocessing\n",
    "X = np.array([preprocess_image(path) for path in df_train[\"file_path\"]])\n",
    "y = df_train[\"label\"].apply(lambda x: 1 if x == \"dogs\" else 0).values  # Encode labels\n"
   ]
  },
  {
   "cell_type": "code",
   "execution_count": 25,
   "id": "e183eb01-6ab6-46b9-9d1b-d7d85e53a935",
   "metadata": {},
   "outputs": [],
   "source": [
    "# Train-test split\n",
    "X_train, X_test, y_train, y_test = train_test_split(X, y, test_size=0.2, random_state=42)"
   ]
  },
  {
   "cell_type": "code",
   "execution_count": 29,
   "id": "e2f23f3a-b7b0-4e0b-bb29-7c46e04e94fc",
   "metadata": {},
   "outputs": [
    {
     "name": "stdout",
     "output_type": "stream",
     "text": [
      "SVM Accuracy: 0.6071428571428571\n",
      "Random Forest Accuracy: 0.5267857142857143\n",
      "Logistic Regression Accuracy: 0.6071428571428571\n"
     ]
    }
   ],
   "source": [
    "from sklearn.svm import SVC\n",
    "from sklearn.ensemble import RandomForestClassifier\n",
    "from sklearn.linear_model import LogisticRegression\n",
    "from sklearn.metrics import accuracy_score\n",
    "\n",
    "# Train SVM\n",
    "svm_model = SVC(kernel=\"linear\")\n",
    "svm_model.fit(X_train, y_train)\n",
    "\n",
    "# Train Random Forest\n",
    "rf_model = RandomForestClassifier(n_estimators=100)\n",
    "rf_model.fit(X_train, y_train)\n",
    "\n",
    "# Train Logistic Regression\n",
    "lr_model = LogisticRegression(max_iter=5000)\n",
    "lr_model.fit(X_train, y_train)\n",
    "\n",
    "# Evaluate models\n",
    "print(\"SVM Accuracy:\", accuracy_score(y_test, svm_model.predict(X_test)))\n",
    "print(\"Random Forest Accuracy:\", accuracy_score(y_test, rf_model.predict(X_test)))\n",
    "print(\"Logistic Regression Accuracy:\", accuracy_score(y_test, lr_model.predict(X_test)))"
   ]
  },
  {
   "cell_type": "code",
   "execution_count": 31,
   "id": "42b97718-7734-4666-9c1e-2f187165dfe8",
   "metadata": {},
   "outputs": [
    {
     "data": {
      "text/plain": [
       "['lr_model.pkl']"
      ]
     },
     "execution_count": 31,
     "metadata": {},
     "output_type": "execute_result"
    }
   ],
   "source": [
    "import joblib\n",
    "\n",
    "joblib.dump(svm_model, \"svm_model.pkl\")\n",
    "joblib.dump(rf_model, \"rf_model.pkl\")\n",
    "joblib.dump(lr_model, \"lr_model.pkl\")"
   ]
  },
  {
   "cell_type": "code",
   "execution_count": null,
   "id": "092c781b-17ee-49a3-bb8e-c0c4af52f81d",
   "metadata": {},
   "outputs": [],
   "source": []
  }
 ],
 "metadata": {
  "kernelspec": {
   "display_name": "Python 3 (ipykernel)",
   "language": "python",
   "name": "python3"
  },
  "language_info": {
   "codemirror_mode": {
    "name": "ipython",
    "version": 3
   },
   "file_extension": ".py",
   "mimetype": "text/x-python",
   "name": "python",
   "nbconvert_exporter": "python",
   "pygments_lexer": "ipython3",
   "version": "3.11.7"
  }
 },
 "nbformat": 4,
 "nbformat_minor": 5
}
